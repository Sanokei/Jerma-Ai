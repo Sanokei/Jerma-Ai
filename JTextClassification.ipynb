{
 "cells": [
  {
   "cell_type": "markdown",
   "metadata": {},
   "source": [
    "<h1>Project J: Text Classification</h1>\n",
    "<sub>Classifies text in Jerma highlights compared to the VODs<sub>"
   ]
  },
  {
   "cell_type": "code",
   "execution_count": null,
   "metadata": {},
   "outputs": [],
   "source": [
    "!pip install tensorflow\n",
    "!pip install tensorflow-hub\n",
    "!pip install tensorflow-text\n",
    "!pip install pandas\n",
    "!pip install scikit-learn"
   ]
  },
  {
   "cell_type": "code",
   "execution_count": null,
   "metadata": {},
   "outputs": [],
   "source": [
    "import tensorflow as tf\n",
    "import tensorflow_hub as hub\n",
    "import tensorflow_text as text"
   ]
  },
  {
   "cell_type": "code",
   "execution_count": null,
   "metadata": {},
   "outputs": [],
   "source": [
    "import pandas as pd\n",
    "df= pd.read_csv(\"jerma.csv\")\n",
    "\n",
    "from sklearn.model_selection import train_test_split\n",
    "X_train, X_test, Y_train, Y_test = train_test_split(df[\"Message\"],df[\"content\"], test_size=0.2, stratify=df['content'])"
   ]
  },
  {
   "cell_type": "code",
   "execution_count": null,
   "metadata": {},
   "outputs": [],
   "source": [
    "bert_preprocess = hub.KerasLayer(\"https://tfhub.dev/tensorflow/bert_en_uncased_preprocess/3\")\n",
    "bert_encoder = hub.KerasLayer(\"https://tfhub.dev/tensorflow/bert_en_uncased_L-12_H-768_A-12/4\")"
   ]
  },
  {
   "cell_type": "code",
   "execution_count": null,
   "metadata": {},
   "outputs": [],
   "source": [
    "text_input = tf.keras.layers.Input(shape=(),dtype=tf.string,name=\"input\")\n",
    "preprocessed_text = bert_preprocess(sentences)\n",
    "outputs = bert_encoder(preprocessed_text)\n",
    "# dropout layer to mitigate over fitting\n",
    "l1 = tf.keras.layers.Dropout(0.1,name=\"dropout\")(outputs[\"pooled_output\"])\n",
    "l2 = tf.keras.layers.Dense(1,activation=\"sigmoid\",name=\"output\")(l1)\n",
    "\n",
    "model = tf.keras.Model(inputs=[text_input],output=[l2])\n",
    "\n",
    "model.compile(\n",
    "    optomizer=\"adam\",\n",
    "    loss=\"binary_crossentropy\",\n",
    "    metrics=[\"accuracy\"]\n",
    ")\n",
    "\n",
    "model.fit(X_train, Y_train, epochs=10)\n",
    "model.evaluate(X_test, Y_test)\n",
    "\n",
    "model.save('jerma_model')\n",
    "export_dir = './jerma_model'\n",
    "tf.saved_model.save(model, export_dir=export_dir)"
   ]
  }
 ],
 "metadata": {
  "kernelspec": {
   "display_name": "Python 3",
   "language": "python",
   "name": "python3"
  }
 },
 "nbformat": 4,
 "nbformat_minor": 4
}
