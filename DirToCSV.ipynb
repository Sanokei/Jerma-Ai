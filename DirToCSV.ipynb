{
 "cells": [
  {
   "cell_type": "code",
   "execution_count": 4,
   "metadata": {},
   "outputs": [],
   "source": [
    "import csv\n",
    "import os\n",
    "import random\n",
    "\n",
    "path = os.getcwd()\n",
    "path_pos = path + \"\\\\train\\\\pos\\\\\"\n",
    "path_neg = path + \"\\\\train\\\\neg\\\\\"\n",
    "files_pos = os.listdir(path + \"\\\\train\\\\pos\\\\\")\n",
    "files_neg = os.listdir(path + \"\\\\train\\\\neg\\\\\")\n",
    "\n",
    "with open(r'jerma.csv', 'w+',encoding='utf-8') as csvfile:\n",
    "    filewriter = csv.writer(csvfile,lineterminator = '\\n')\n",
    "    for pos in files_pos:\n",
    "        with open(r''+path_pos+pos,\"r\") as indiv_file:\n",
    "            filewriter.writerow(['pos',indiv_file.readline().rstrip(),1])\n",
    "    for neg in files_neg:\n",
    "        with open(r''+path_neg+neg,\"r\") as indiv_file:\n",
    "            filewriter.writerow(['neg',indiv_file.readline().rstrip(),0])\n",
    "\n",
    "with open(\"jerma.csv\", \"r\",encoding='utf-8') as f:\n",
    "    l = list(csv.reader(f))\n",
    "    \n",
    "random.shuffle(l)\n",
    "\n",
    "with open(\"random.csv\", \"w+\",encoding='utf-8') as csvfile:\n",
    "    filewriter = csv.writer(csvfile,lineterminator = '\\n')\n",
    "    filewriter.writerow(['Category', 'Message','content'])\n",
    "    filewriter.writerows(l)"
   ]
  },
  {
   "cell_type": "code",
   "execution_count": null,
   "metadata": {},
   "outputs": [],
   "source": []
  }
 ],
 "metadata": {
  "kernelspec": {
   "display_name": "Python 3",
   "language": "python",
   "name": "python3"
  },
  "language_info": {
   "codemirror_mode": {
    "name": "ipython",
    "version": 3
   },
   "file_extension": ".py",
   "mimetype": "text/x-python",
   "name": "python",
   "nbconvert_exporter": "python",
   "pygments_lexer": "ipython3",
   "version": "3.8.3"
  }
 },
 "nbformat": 4,
 "nbformat_minor": 4
}
