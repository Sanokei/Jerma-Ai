{
 "cells": [
  {
   "cell_type": "code",
   "execution_count": null,
   "metadata": {},
   "outputs": [],
   "source": [
    "!pip install ffmpeg\n",
    "!pip install subprocess"
   ]
  },
  {
   "cell_type": "code",
   "execution_count": null,
   "metadata": {},
   "outputs": [],
   "source": [
    "import subprocess\n",
    "import os"
   ]
  },
  {
   "cell_type": "code",
   "execution_count": null,
   "metadata": {},
   "outputs": [],
   "source": [
    "def loop_through_creation(file_name):\n",
    "    \n",
    "    video_id = file_name.split(\"=\")[1]\n",
    "    cd = \"cd \" + os.getcwd().replace(\"\\\\\",\"/\") + \"/videos/\" + video_id\n",
    "\n",
    "    os.mkdir(os.getcwd() + \"\\\\videos\\\\\" + \"\\\\\"+ video_id + \"\\\\\") \n",
    "    cmd = cd +\" && \" +\"youtube-dl -o \" + '\"' +os.getcwd().replace(\"\\\\\",\"/\") + \"/videos/\" + video_id + \"/\" + video_id + \".mp4\" + '\"' + \" \" + \"https://www.youtube.com/watch?v=\" + video_id        \n",
    "    print(cmd)\n",
    "    subprocess.check_output(cmd,shell=True)\n",
    "    with open(\".\\\\temp\\\\\"+file_name+ \".txt\",\"r+\") as command_file:\n",
    "        all_lines = command_file.readlines()\n",
    "        max_iteration = len(all_lines)\n",
    "        for line in range(max_iteration):\n",
    "            path = all_lines[line].strip(\"\\n\") +\" \" + str(line) + \".mp4\"\n",
    "            # bash = \"#!/usr/bin/\"\n",
    "            chmod = \"chmod +x \" + os.getcwd().replace(\"\\\\\",\"/\") + \"/videos/\"\n",
    "            # cmd = bash+\"\\n\"+cd+\"\\n\"+path\n",
    "            # cmd = chmod +\" && \"+ cd +\" && \"+ path\n",
    "            cmd = cd +\" && \"+ path\n",
    "            print(cmd)\n",
    "            subprocess.check_output(cmd,shell=True)\n",
    "    try:\n",
    "        pass\n",
    "    except Exception:\n",
    "        print(\"File already exists\")"
   ]
  },
  {
   "cell_type": "code",
   "execution_count": null,
   "metadata": {
    "scrolled": false
   },
   "outputs": [],
   "source": [
    "if __name__ == '__main__':\n",
    "    loop_through_creation(\"command=DDg9TGHoPUU\")"
   ]
  }
 ],
 "metadata": {
  "kernelspec": {
   "display_name": "Python 3",
   "language": "python",
   "name": "python3"
  },
  "language_info": {
   "codemirror_mode": {
    "name": "ipython",
    "version": 3
   },
   "file_extension": ".py",
   "mimetype": "text/x-python",
   "name": "python",
   "nbconvert_exporter": "python",
   "pygments_lexer": "ipython3",
   "version": "3.8.3"
  }
 },
 "nbformat": 4,
 "nbformat_minor": 4
}
