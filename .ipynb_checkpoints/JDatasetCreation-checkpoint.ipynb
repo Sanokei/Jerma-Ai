{
 "cells": [
  {
   "cell_type": "markdown",
   "metadata": {},
   "source": [
    "<h1>Project J: Dataset Creation</h1>\n",
    "<sub>Creates a dataset of Jerma being \"funny\" and everything else that he does including being bad at videogames<sub>"
   ]
  },
  {
   "cell_type": "markdown",
   "metadata": {},
   "source": [
    "<h3>Installs libraries</h3>"
   ]
  },
  {
   "cell_type": "code",
   "execution_count": 41,
   "metadata": {},
   "outputs": [
    {
     "name": "stderr",
     "output_type": "stream",
     "text": [
      "WARNING: You are using pip version 21.2.2; however, version 21.2.3 is available.\n",
      "You should consider upgrading via the 'c:\\users\\william\\appdata\\local\\programs\\python\\python38\\python.exe -m pip install --upgrade pip' command.\n"
     ]
    },
    {
     "name": "stdout",
     "output_type": "stream",
     "text": [
      "Requirement already satisfied: youtube-transcript-api in c:\\users\\william\\appdata\\local\\programs\\python\\python38\\lib\\site-packages (0.4.1)\n",
      "Requirement already satisfied: requests in c:\\users\\william\\appdata\\local\\programs\\python\\python38\\lib\\site-packages (from youtube-transcript-api) (2.24.0)\n",
      "Requirement already satisfied: urllib3!=1.25.0,!=1.25.1,<1.26,>=1.21.1 in c:\\users\\william\\appdata\\local\\programs\\python\\python38\\lib\\site-packages (from requests->youtube-transcript-api) (1.25.9)\n",
      "Requirement already satisfied: idna<3,>=2.5 in c:\\users\\william\\appdata\\local\\programs\\python\\python38\\lib\\site-packages (from requests->youtube-transcript-api) (2.10)\n",
      "Requirement already satisfied: chardet<4,>=3.0.2 in c:\\users\\william\\appdata\\local\\programs\\python\\python38\\lib\\site-packages (from requests->youtube-transcript-api) (3.0.4)\n",
      "Requirement already satisfied: certifi>=2017.4.17 in c:\\users\\william\\appdata\\local\\programs\\python\\python38\\lib\\site-packages (from requests->youtube-transcript-api) (2020.6.20)\n",
      "Requirement already satisfied: configparser in c:\\users\\william\\appdata\\local\\programs\\python\\python38\\lib\\site-packages (5.0.2)"
     ]
    },
    {
     "name": "stderr",
     "output_type": "stream",
     "text": [
      "WARNING: You are using pip version 21.2.2; however, version 21.2.3 is available.\n",
      "You should consider upgrading via the 'c:\\users\\william\\appdata\\local\\programs\\python\\python38\\python.exe -m pip install --upgrade pip' command.\n"
     ]
    },
    {
     "name": "stdout",
     "output_type": "stream",
     "text": [
      "\n"
     ]
    }
   ],
   "source": [
    "!pip install youtube-transcript-api\n",
    "!pip install configparser"
   ]
  },
  {
   "cell_type": "code",
   "execution_count": 71,
   "metadata": {},
   "outputs": [],
   "source": [
    "from youtube_transcript_api import YouTubeTranscriptApi\n",
    "import configparser\n",
    "import getopt\n",
    "\n",
    "import re\n",
    "import os\n",
    "import json\n",
    "import sys"
   ]
  },
  {
   "cell_type": "markdown",
   "metadata": {},
   "source": [
    "<h3>Find Config</h3>"
   ]
  },
  {
   "cell_type": "code",
   "execution_count": 72,
   "metadata": {},
   "outputs": [
    {
     "data": {
      "text/plain": [
       "['C:\\\\Users\\\\William\\\\Desktop\\\\GithubProjects\\\\Project-J\\\\config.txt']"
      ]
     },
     "execution_count": 72,
     "metadata": {},
     "output_type": "execute_result"
    }
   ],
   "source": [
    "configParser = configparser.RawConfigParser()   \n",
    "configFilePath = r''+os.getcwd()+'\\\\config.txt'\n",
    "configParser.read(configFilePath)"
   ]
  },
  {
   "cell_type": "markdown",
   "metadata": {},
   "source": [
    "<h3>Read from config</h3>"
   ]
  },
  {
   "cell_type": "code",
   "execution_count": 73,
   "metadata": {},
   "outputs": [],
   "source": [
    "iteration = int(configParser.get('variables','iteration'))\n",
    "all_highlight_video_ids = json.loads(configParser.get('variables','highlight_videos'))\n",
    "all_vod_video_ids = json.loads(configParser.get('variables','vod_videos'))\n",
    "min_word_count_per_sentence = int(configParser.get('variables','min_word_count_per_sentence'))"
   ]
  },
  {
   "cell_type": "markdown",
   "metadata": {},
   "source": [
    "<h3>Variables</h3>"
   ]
  },
  {
   "cell_type": "code",
   "execution_count": 74,
   "metadata": {},
   "outputs": [],
   "source": [
    "# Candid tags (e.g Music and Laugher)\n",
    "cand = {\"[Laughter]\":\"\",\"[Music]\":\"\",\"[Applause]\":\"\"}\n",
    "# Get current directory\n",
    "current_directory = os.getcwd()\n",
    "# train or test file\n",
    "train_or_test = \"train\"\n",
    "# file path\n",
    "file_path = current_directory + \"\\\\\" + \"temp\" + \"\\\\\""
   ]
  },
  {
   "cell_type": "markdown",
   "metadata": {},
   "source": [
    "<h3>Get rid of cadence</h3>\n",
    "<sub><i>cadence deez nuts fit in your mouth</i></sub>\n",
    "<p>Checks if the line has a tag auto generated by youtube</p>\n",
    "<p>For instance [Music]</p>\n",
    "<p>Line 8: Checks if the list is empty, if not then it replaces the tags with nothing.</p>\n",
    "<p>Line 10: Checks if the line is anything at all, if not then it does not add it to the file</p>"
   ]
  },
  {
   "cell_type": "markdown",
   "metadata": {},
   "source": [
    "<h4>Get Transcript</h4>\n",
    "<p>I was gonna get the manually created transcript but i realized that the way things are formated would be different with the vod, meaning that the program wont be able to delete files from the neg dataset when trying to delete pos duplicates</p>"
   ]
  },
  {
   "cell_type": "code",
   "execution_count": 75,
   "metadata": {},
   "outputs": [],
   "source": [
    "def make_file(video_id,file_name):\n",
    "    transcript_list = YouTubeTranscriptApi.list_transcripts(video_id)\n",
    "    transcript = transcript_list.find_generated_transcript(['en'])\n",
    "    tran = transcript.fetch()\n",
    "    \n",
    "    with open(r'{}{}_Transcript.txt'.format(file_path,file_name,'w')) as file:\n",
    "        for line in tran:\n",
    "            newLine = line.get(\"text\")\n",
    "            i = \"\" if not [k for k,v in cand.items() if line.get(\"text\") == k] else [k for k,v in cand.items() if line.get(\"text\") == k][0]\n",
    "            newLine = line.get(\"text\").replace(i,\"\")\n",
    "            if newLine.strip():\n",
    "                file.write(newLine+\"\\n\")"
   ]
  },
  {
   "cell_type": "markdown",
   "metadata": {},
   "source": [
    "<h3>Create Positive Dataset Files</h3>\n",
    "They will be named by {iteration},{line}"
   ]
  },
  {
   "cell_type": "code",
   "execution_count": 76,
   "metadata": {},
   "outputs": [],
   "source": [
    "def group_file(train_or_test, pos_or_neg, file_name):\n",
    "    path = current_directory + \"\\\\\" + train_or_test + \"\\\\\" + pos_or_neg + \"\\\\\"\n",
    "    transcript_file = open(r'{}{}_Transcript.txt'.format(file_path,file_name),'r')\n",
    "    tran = transcript_file.readlines()\n",
    "    \n",
    "    for line in range(len(tran)):\n",
    "        individual_file = open(r'{}{},{}.txt'.format(path,iteration,line),'w')\n",
    "        text = highlight_tran[line]\n",
    "        \n",
    "        if line == len(tran):\n",
    "            individual_file.write(text.rstrip())\n",
    "            individual_file.close()\n",
    "            break\n",
    "        if len(tran[line + 1].split()) <= min_word_count_per_sentence:\n",
    "            text = text.rstrip() + \" \" + tran[line + 1]\n",
    "            individual_file.write(text.rstrip())\n",
    "            individual_file.close()\n",
    "            continue\n",
    "        elif len(tran[line].split()) > min_word_count_per_sentence:\n",
    "            individual_file.write(text.rstrip())\n",
    "            individual_file.close()\n",
    "            \n",
    "    transcript_file.close()"
   ]
  },
  {
   "cell_type": "markdown",
   "metadata": {},
   "source": [
    "<h3>Checks if the highlight data is in the vod</h3>\n",
    "All of the highlight footage will be in the vod data"
   ]
  },
  {
   "cell_type": "code",
   "execution_count": 77,
   "metadata": {},
   "outputs": [],
   "source": [
    "def check_file(highlight_file_name,vod_file_name):\n",
    "    with open(r'{}{}_Transcript.txt'.format(file_path,highlight_file_name),'r') as highlight_file:\n",
    "        highlight_lines = highlight_file.readlines()\n",
    "    with open(r'{}{}_Transcript.txt'.format(file_path,vod_file_name),'r') as vod_file:\n",
    "        vod_lines = vod_file.readlines()\n",
    "    with open(r'{}{}_Transcript.txt'.format(file_path,vod_file_name + \"2\"),'w') as new_vod_file:\n",
    "        for highlight_line in highlight_lines:\n",
    "            for vod_line in vod_lines():\n",
    "                if(highlight_line not in vod_line.strip(\"\\n\")):\n",
    "                    vod_file.write(vod_line)"
   ]
  },
  {
   "cell_type": "code",
   "execution_count": 78,
   "metadata": {},
   "outputs": [],
   "source": [
    "def main(argv):\n",
    "    try:\n",
    "        opts, args = getopt.getopt(sys.argv[1:],\"ht:i\",[\"trainOrTest=\",\"iteration=\"])\n",
    "    except getopt.GetoptError:\n",
    "        print ('JDatasetCreation.py -t <train of test> -i <current iteration>')\n",
    "        sys.exit(2)\n",
    "    for opt, arg in opts:\n",
    "        if opt.lower() == '-h':\n",
    "            print ('JDatasetCreation.py -t <train of test>')\n",
    "            sys.exit()\n",
    "        elif opt.lower() in (\"-t\", \"--trainortest\"):\n",
    "            if(arg.lower() == \"train\" or arg.lower() == \"test\"):\n",
    "                train_or_test = arg.lower()\n",
    "        elif opt.lower() in (\"-i\",\"--iteration\"):\n",
    "            iteration = int(arg)\n",
    "        "
   ]
  },
  {
   "cell_type": "code",
   "execution_count": 79,
   "metadata": {},
   "outputs": [
    {
     "name": "stdout",
     "output_type": "stream",
     "text": [
      "9_kOVso0yRM\n"
     ]
    },
    {
     "ename": "FileNotFoundError",
     "evalue": "[Errno 2] No such file or directory: 'C:\\\\Users\\\\William\\\\Desktop\\\\GithubProjects\\\\Project-J\\\\temp\\\\highlight_Transcript.txt'",
     "output_type": "error",
     "traceback": [
      "\u001b[1;31m---------------------------------------------------------------------------\u001b[0m",
      "\u001b[1;31mFileNotFoundError\u001b[0m                         Traceback (most recent call last)",
      "\u001b[1;32m<ipython-input-79-f904e07a51e7>\u001b[0m in \u001b[0;36m<module>\u001b[1;34m\u001b[0m\n\u001b[0;32m      3\u001b[0m     \u001b[1;31m# main(sys.argv[1:])\u001b[0m\u001b[1;33m\u001b[0m\u001b[1;33m\u001b[0m\u001b[1;33m\u001b[0m\u001b[0m\n\u001b[0;32m      4\u001b[0m     \u001b[0mprint\u001b[0m\u001b[1;33m(\u001b[0m\u001b[0mall_highlight_video_ids\u001b[0m\u001b[1;33m[\u001b[0m\u001b[0miteration\u001b[0m\u001b[1;33m]\u001b[0m\u001b[1;33m)\u001b[0m\u001b[1;33m\u001b[0m\u001b[1;33m\u001b[0m\u001b[0m\n\u001b[1;32m----> 5\u001b[1;33m     \u001b[0mmake_file\u001b[0m\u001b[1;33m(\u001b[0m\u001b[0mall_highlight_video_ids\u001b[0m\u001b[1;33m[\u001b[0m\u001b[0miteration\u001b[0m\u001b[1;33m]\u001b[0m\u001b[1;33m,\u001b[0m\u001b[1;34m\"highlight\"\u001b[0m\u001b[1;33m)\u001b[0m\u001b[1;33m\u001b[0m\u001b[1;33m\u001b[0m\u001b[0m\n\u001b[0m\u001b[0;32m      6\u001b[0m     \u001b[0mgroup_file\u001b[0m\u001b[1;33m(\u001b[0m\u001b[0mtrain_or_test\u001b[0m\u001b[1;33m,\u001b[0m\u001b[1;34m\"pos\"\u001b[0m\u001b[1;33m,\u001b[0m \u001b[1;34m\"highlight\"\u001b[0m\u001b[1;33m)\u001b[0m\u001b[1;33m\u001b[0m\u001b[1;33m\u001b[0m\u001b[0m\n\u001b[0;32m      7\u001b[0m \u001b[1;33m\u001b[0m\u001b[0m\n",
      "\u001b[1;32m<ipython-input-75-32273d322bc0>\u001b[0m in \u001b[0;36mmake_file\u001b[1;34m(video_id, file_name)\u001b[0m\n\u001b[0;32m      3\u001b[0m     \u001b[0mtranscript\u001b[0m \u001b[1;33m=\u001b[0m \u001b[0mtranscript_list\u001b[0m\u001b[1;33m.\u001b[0m\u001b[0mfind_generated_transcript\u001b[0m\u001b[1;33m(\u001b[0m\u001b[1;33m[\u001b[0m\u001b[1;34m'en'\u001b[0m\u001b[1;33m]\u001b[0m\u001b[1;33m)\u001b[0m\u001b[1;33m\u001b[0m\u001b[1;33m\u001b[0m\u001b[0m\n\u001b[0;32m      4\u001b[0m     \u001b[0mtran\u001b[0m \u001b[1;33m=\u001b[0m \u001b[0mtranscript\u001b[0m\u001b[1;33m.\u001b[0m\u001b[0mfetch\u001b[0m\u001b[1;33m(\u001b[0m\u001b[1;33m)\u001b[0m\u001b[1;33m\u001b[0m\u001b[1;33m\u001b[0m\u001b[0m\n\u001b[1;32m----> 5\u001b[1;33m     \u001b[0mfile\u001b[0m \u001b[1;33m=\u001b[0m \u001b[0mopen\u001b[0m\u001b[1;33m(\u001b[0m\u001b[1;34mr'{}{}_Transcript.txt'\u001b[0m\u001b[1;33m.\u001b[0m\u001b[0mformat\u001b[0m\u001b[1;33m(\u001b[0m\u001b[0mfile_path\u001b[0m\u001b[1;33m,\u001b[0m\u001b[0mfile_name\u001b[0m\u001b[1;33m,\u001b[0m\u001b[1;34m'a+'\u001b[0m\u001b[1;33m)\u001b[0m\u001b[1;33m)\u001b[0m\u001b[1;33m\u001b[0m\u001b[1;33m\u001b[0m\u001b[0m\n\u001b[0m\u001b[0;32m      6\u001b[0m \u001b[1;33m\u001b[0m\u001b[0m\n\u001b[0;32m      7\u001b[0m     \u001b[1;32mfor\u001b[0m \u001b[0mline\u001b[0m \u001b[1;32min\u001b[0m \u001b[0mtran\u001b[0m\u001b[1;33m:\u001b[0m\u001b[1;33m\u001b[0m\u001b[1;33m\u001b[0m\u001b[0m\n",
      "\u001b[1;31mFileNotFoundError\u001b[0m: [Errno 2] No such file or directory: 'C:\\\\Users\\\\William\\\\Desktop\\\\GithubProjects\\\\Project-J\\\\temp\\\\highlight_Transcript.txt'"
     ]
    }
   ],
   "source": [
    "if __name__ == \"__main__\":\n",
    "    \n",
    "    # main(sys.argv[1:])\n",
    "    print(all_highlight_video_ids[iteration])\n",
    "    make_file(all_highlight_video_ids[iteration],\"highlight\")\n",
    "    group_file(train_or_test,\"pos\", \"highlight\")\n",
    "    \n",
    "    make_file(all_vod_video_ids[iteration],\"vod\")\n",
    "    group_file(train_or_test,\"neg\",\"vod\")\n",
    "    check_file(\"highlight\",\"vod\")"
   ]
  },
  {
   "cell_type": "code",
   "execution_count": null,
   "metadata": {},
   "outputs": [],
   "source": []
  }
 ],
 "metadata": {
  "kernelspec": {
   "display_name": "Python 3",
   "language": "python",
   "name": "python3"
  },
  "language_info": {
   "codemirror_mode": {
    "name": "ipython",
    "version": 3
   },
   "file_extension": ".py",
   "mimetype": "text/x-python",
   "name": "python",
   "nbconvert_exporter": "python",
   "pygments_lexer": "ipython3",
   "version": "3.8.3"
  }
 },
 "nbformat": 4,
 "nbformat_minor": 4
}
