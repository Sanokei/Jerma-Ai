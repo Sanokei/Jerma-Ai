{
 "cells": [
  {
   "cell_type": "markdown",
   "metadata": {},
   "source": [
    "<h1>Project J: Dataset Creator</h1>\n",
    "<sub>Uses the JDatasetCreation.py to creates new dataset files through iterations</sub>"
   ]
  },
  {
   "cell_type": "code",
   "execution_count": null,
   "metadata": {},
   "outputs": [],
   "source": [
    "!pip install configparser"
   ]
  },
  {
   "cell_type": "code",
   "execution_count": null,
   "metadata": {},
   "outputs": [],
   "source": [
    "import subprocess\n",
    "import json\n",
    "import sys\n",
    "import getopt\n",
    "import os\n",
    "\n",
    "import configparser"
   ]
  },
  {
   "cell_type": "code",
   "execution_count": null,
   "metadata": {},
   "outputs": [],
   "source": [
    "percent = 50"
   ]
  },
  {
   "cell_type": "markdown",
   "metadata": {},
   "source": [
    "<h3>Find config</h3>"
   ]
  },
  {
   "cell_type": "code",
   "execution_count": null,
   "metadata": {},
   "outputs": [],
   "source": [
    "configParser = configparser.RawConfigParser()   \n",
    "configFilePath = r''+os.getcwd()+'\\\\config.txt'\n",
    "configParser.read(configFilePath)"
   ]
  },
  {
   "cell_type": "markdown",
   "metadata": {},
   "source": [
    "<h3>Read from config</h3>"
   ]
  },
  {
   "cell_type": "code",
   "execution_count": null,
   "metadata": {},
   "outputs": [],
   "source": [
    "iteration = int(configParser.get('variables','iteration'))\n",
    "max_iteration = len(json.loads(configParser.get('variables','vod_videos')))"
   ]
  },
  {
   "cell_type": "markdown",
   "metadata": {},
   "source": [
    "<h3>Loop through the creation process</h3>\n",
    "Goes through all the iterations and creates dataset files for them"
   ]
  },
  {
   "cell_type": "code",
   "execution_count": null,
   "metadata": {},
   "outputs": [],
   "source": [
    "def loop_through_creation(percent):\n",
    "    while(iteration < max_iteration):\n",
    "        run_call = \"JDatasetCreation.py -t {}\".format(\"train\" if (iteration + 1) * (percent/100) < (max_iteration + 1) * (1 - (percent/100)) else \"test\") + \"-i\" + str(iteration)\n",
    "        subprocess.call(\"ipython \" + run_call, shell=True)                  \n",
    "        configParser.set('variables','interation',iteration)\n",
    "        with open(configFilePath, 'w') as configfile:\n",
    "            configParser.write(configfile)\n",
    "        configParser.read(configFilePath)"
   ]
  },
  {
   "cell_type": "markdown",
   "metadata": {},
   "source": [
    "<h3>Main fucntion</h3>"
   ]
  },
  {
   "cell_type": "code",
   "execution_count": null,
   "metadata": {},
   "outputs": [],
   "source": [
    "def main(argv):\n",
    "    try:\n",
    "        opts, args = getopt.getopt(argv,\"hp\",[\"percent=\"])\n",
    "    except getopt.GetoptError:\n",
    "        print ('Dataset_Creator.py -p <percent that data is split into train>')\n",
    "        sys.exit(2)\n",
    "    for opt, arg in opts:\n",
    "        if opt == '-h':\n",
    "            print ('Dataset_Creator.py -p <percent that data is split into train>')\n",
    "            sys.exit()\n",
    "        elif opt in (\"-p\", \"--percent\"):\n",
    "            percent = int(arg) if int(arg) <= 100 and int(arg) >= 0 else percent"
   ]
  },
  {
   "cell_type": "code",
   "execution_count": null,
   "metadata": {},
   "outputs": [],
   "source": [
    "if __name__ == \"__main__\":\n",
    "    # main(sys.argv[1:])\n",
    "    loop_through_creation(percent)"
   ]
  }
 ],
 "metadata": {
  "kernelspec": {
   "display_name": "Python 3",
   "language": "python",
   "name": "python3"
  },
  "language_info": {
   "codemirror_mode": {
    "name": "ipython",
    "version": 3
   },
   "file_extension": ".py",
   "mimetype": "text/x-python",
   "name": "python",
   "nbconvert_exporter": "python",
   "pygments_lexer": "ipython3",
   "version": "3.8.3"
  }
 },
 "nbformat": 4,
 "nbformat_minor": 4
}
