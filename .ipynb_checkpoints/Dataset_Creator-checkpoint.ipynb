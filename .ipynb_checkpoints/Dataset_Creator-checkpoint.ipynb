{
 "cells": [
  {
   "cell_type": "markdown",
   "metadata": {},
   "source": [
    "<h1>Project J: Dataset Creator</h1>\n",
    "<sub>Uses the JDatasetCreation.py to creates new dataset files through iterations</sub>"
   ]
  },
  {
   "cell_type": "code",
   "execution_count": 1,
   "metadata": {},
   "outputs": [
    {
     "name": "stdout",
     "output_type": "stream",
     "text": [
      "Requirement already satisfied: configparser in c:\\users\\william\\appdata\\local\\programs\\python\\python38\\lib\\site-packages (5.0.2)"
     ]
    },
    {
     "name": "stderr",
     "output_type": "stream",
     "text": [
      "WARNING: You are using pip version 21.2.2; however, version 21.2.3 is available.\n",
      "You should consider upgrading via the 'c:\\users\\william\\appdata\\local\\programs\\python\\python38\\python.exe -m pip install --upgrade pip' command.\n"
     ]
    },
    {
     "name": "stdout",
     "output_type": "stream",
     "text": [
      "\n"
     ]
    }
   ],
   "source": [
    "!pip install configparser"
   ]
  },
  {
   "cell_type": "code",
   "execution_count": 2,
   "metadata": {},
   "outputs": [
    {
     "name": "stdout",
     "output_type": "stream",
     "text": [
      "Requirement already satisfied: youtube-transcript-api in c:\\users\\william\\appdata\\local\\programs\\python\\python38\\lib\\site-packages (0.4.1)"
     ]
    },
    {
     "name": "stderr",
     "output_type": "stream",
     "text": [
      "WARNING: You are using pip version 21.2.2; however, version 21.2.3 is available.\n",
      "You should consider upgrading via the 'c:\\users\\william\\appdata\\local\\programs\\python\\python38\\python.exe -m pip install --upgrade pip' command.\n"
     ]
    },
    {
     "name": "stdout",
     "output_type": "stream",
     "text": [
      "\n",
      "Requirement already satisfied: requests in c:\\users\\william\\appdata\\local\\programs\\python\\python38\\lib\\site-packages (from youtube-transcript-api) (2.24.0)\n",
      "Requirement already satisfied: chardet<4,>=3.0.2 in c:\\users\\william\\appdata\\local\\programs\\python\\python38\\lib\\site-packages (from requests->youtube-transcript-api) (3.0.4)\n",
      "Requirement already satisfied: urllib3!=1.25.0,!=1.25.1,<1.26,>=1.21.1 in c:\\users\\william\\appdata\\local\\programs\\python\\python38\\lib\\site-packages (from requests->youtube-transcript-api) (1.25.9)\n",
      "Requirement already satisfied: idna<3,>=2.5 in c:\\users\\william\\appdata\\local\\programs\\python\\python38\\lib\\site-packages (from requests->youtube-transcript-api) (2.10)\n",
      "Requirement already satisfied: certifi>=2017.4.17 in c:\\users\\william\\appdata\\local\\programs\\python\\python38\\lib\\site-packages (from requests->youtube-transcript-api) (2020.6.20)\n",
      "Requirement already satisfied: configparser in c:\\users\\william\\appdata\\local\\programs\\python\\python38\\lib\\site-packages (5.0.2)\n"
     ]
    },
    {
     "name": "stderr",
     "output_type": "stream",
     "text": [
      "WARNING: You are using pip version 21.2.2; however, version 21.2.3 is available.\n",
      "You should consider upgrading via the 'c:\\users\\william\\appdata\\local\\programs\\python\\python38\\python.exe -m pip install --upgrade pip' command.\n"
     ]
    }
   ],
   "source": [
    "import subprocess\n",
    "import json\n",
    "import sys\n",
    "import getopt\n",
    "import os\n",
    "\n",
    "import configparser\n",
    "\n",
    "from JDatasetCreation import * "
   ]
  },
  {
   "cell_type": "code",
   "execution_count": 3,
   "metadata": {},
   "outputs": [],
   "source": [
    "percent = 50"
   ]
  },
  {
   "cell_type": "markdown",
   "metadata": {},
   "source": [
    "<h3>Find config</h3>"
   ]
  },
  {
   "cell_type": "code",
   "execution_count": 4,
   "metadata": {},
   "outputs": [
    {
     "data": {
      "text/plain": [
       "['C:\\\\Users\\\\William\\\\Desktop\\\\GithubProjects\\\\Project-J\\\\config.txt']"
      ]
     },
     "execution_count": 4,
     "metadata": {},
     "output_type": "execute_result"
    }
   ],
   "source": [
    "configParser = configparser.RawConfigParser()   \n",
    "configFilePath = r''+os.getcwd()+'\\\\config.txt'\n",
    "configParser.read(configFilePath)"
   ]
  },
  {
   "cell_type": "markdown",
   "metadata": {},
   "source": [
    "<h3>Read from config</h3>"
   ]
  },
  {
   "cell_type": "code",
   "execution_count": 5,
   "metadata": {},
   "outputs": [],
   "source": [
    "max_iteration = len(json.loads(configParser.get('variables','vod_videos')))"
   ]
  },
  {
   "cell_type": "markdown",
   "metadata": {},
   "source": [
    "<h3>Loop through the creation process</h3>\n",
    "Goes through all the iterations and creates dataset files for them"
   ]
  },
  {
   "cell_type": "code",
   "execution_count": 6,
   "metadata": {},
   "outputs": [],
   "source": [
    "def loop_through_creation(percent):\n",
    "    global max_iteration\n",
    "    for iteration in range(max_iteration):\n",
    "        tot = \"train\" if ((iteration+1) * (percent/100)) < (max_iteration+1) * (((100-percent)/100)) else \"test\"\n",
    "        run_call = \"JDatasetCreation.py -- -t=\" + tot + \"-i=\" + str(iteration)     \n",
    "        subprocess.call(\"ipython \" + run_call, shell=True)"
   ]
  },
  {
   "cell_type": "code",
   "execution_count": 7,
   "metadata": {},
   "outputs": [],
   "source": [
    "def loop_through_creation_start(percent):\n",
    "    global max_iteration\n",
    "    for iteration in range(max_iteration):\n",
    "        tot = \"train\" if ((iteration+1) * (percent/100)) < (max_iteration+1) * (((100 - percent)/100)) else \"test\"\n",
    "        print((iteration+1) * (percent/100))\n",
    "        print((max_iteration+1) * ((percent/100)))\n",
    "        start(tot,str(iteration))"
   ]
  },
  {
   "cell_type": "markdown",
   "metadata": {},
   "source": [
    "<h3>Main fucntion</h3>"
   ]
  },
  {
   "cell_type": "code",
   "execution_count": 8,
   "metadata": {},
   "outputs": [],
   "source": [
    "def main(argv):\n",
    "    global percent\n",
    "    try:\n",
    "        opts, args = getopt.getopt(argv,\"hp:\",[\"percent=\"])\n",
    "    except getopt.GetoptError:\n",
    "        print ('Dataset_Creator.py -p <percent that data is split into train>')\n",
    "        sys.exit(2)\n",
    "    for opt, arg in opts:\n",
    "        if opt == '-h':\n",
    "            print ('Dataset_Creator.py -p <percent that data is split into train>')\n",
    "            sys.exit()\n",
    "        elif opt in (\"-p\", \"--percent\"):\n",
    "            percent = (int(arg) if(int(arg) <= 100 and int(arg) >= 0) else percent)"
   ]
  },
  {
   "cell_type": "code",
   "execution_count": 9,
   "metadata": {},
   "outputs": [
    {
     "name": "stdout",
     "output_type": "stream",
     "text": [
      "0.5\n",
      "2.5\n",
      "1.0\n",
      "2.5\n"
     ]
    },
    {
     "ename": "TranscriptsDisabled",
     "evalue": "\nCould not retrieve a transcript for the video https://www.youtube.com/watch?v=H8IU-YmwVoU! This is most likely caused by:\n\nSubtitles are disabled for this video\n\nIf you are sure that the described cause is not responsible for this error and that a transcript should be retrievable, please create an issue at https://github.com/jdepoix/youtube-transcript-api/issues. Please add which version of youtube_transcript_api you are using and provide the information needed to replicate the error. Also make sure that there are no open issues which already describe your problem!",
     "output_type": "error",
     "traceback": [
      "\u001b[1;31m---------------------------------------------------------------------------\u001b[0m",
      "\u001b[1;31mTranscriptsDisabled\u001b[0m                       Traceback (most recent call last)",
      "\u001b[1;32m<ipython-input-9-fe3cd8960b7e>\u001b[0m in \u001b[0;36m<module>\u001b[1;34m\u001b[0m\n\u001b[0;32m      2\u001b[0m     \u001b[1;31m# main(sys.argv[1:])\u001b[0m\u001b[1;33m\u001b[0m\u001b[1;33m\u001b[0m\u001b[1;33m\u001b[0m\u001b[0m\n\u001b[0;32m      3\u001b[0m \u001b[1;31m#     loop_through_creation(percent)\u001b[0m\u001b[1;33m\u001b[0m\u001b[1;33m\u001b[0m\u001b[1;33m\u001b[0m\u001b[0m\n\u001b[1;32m----> 4\u001b[1;33m     \u001b[0mloop_through_creation_start\u001b[0m\u001b[1;33m(\u001b[0m\u001b[0mpercent\u001b[0m\u001b[1;33m)\u001b[0m\u001b[1;33m\u001b[0m\u001b[1;33m\u001b[0m\u001b[0m\n\u001b[0m",
      "\u001b[1;32m<ipython-input-7-118a2e22c3d0>\u001b[0m in \u001b[0;36mloop_through_creation_start\u001b[1;34m(percent)\u001b[0m\n\u001b[0;32m      5\u001b[0m         \u001b[0mprint\u001b[0m\u001b[1;33m(\u001b[0m\u001b[1;33m(\u001b[0m\u001b[0miteration\u001b[0m\u001b[1;33m+\u001b[0m\u001b[1;36m1\u001b[0m\u001b[1;33m)\u001b[0m \u001b[1;33m*\u001b[0m \u001b[1;33m(\u001b[0m\u001b[0mpercent\u001b[0m\u001b[1;33m/\u001b[0m\u001b[1;36m100\u001b[0m\u001b[1;33m)\u001b[0m\u001b[1;33m)\u001b[0m\u001b[1;33m\u001b[0m\u001b[1;33m\u001b[0m\u001b[0m\n\u001b[0;32m      6\u001b[0m         \u001b[0mprint\u001b[0m\u001b[1;33m(\u001b[0m\u001b[1;33m(\u001b[0m\u001b[0mmax_iteration\u001b[0m\u001b[1;33m+\u001b[0m\u001b[1;36m1\u001b[0m\u001b[1;33m)\u001b[0m \u001b[1;33m*\u001b[0m \u001b[1;33m(\u001b[0m\u001b[1;33m(\u001b[0m\u001b[0mpercent\u001b[0m\u001b[1;33m/\u001b[0m\u001b[1;36m100\u001b[0m\u001b[1;33m)\u001b[0m\u001b[1;33m)\u001b[0m\u001b[1;33m)\u001b[0m\u001b[1;33m\u001b[0m\u001b[1;33m\u001b[0m\u001b[0m\n\u001b[1;32m----> 7\u001b[1;33m         \u001b[0mstart\u001b[0m\u001b[1;33m(\u001b[0m\u001b[0mtot\u001b[0m\u001b[1;33m,\u001b[0m\u001b[0mstr\u001b[0m\u001b[1;33m(\u001b[0m\u001b[0miteration\u001b[0m\u001b[1;33m)\u001b[0m\u001b[1;33m)\u001b[0m\u001b[1;33m\u001b[0m\u001b[1;33m\u001b[0m\u001b[0m\n\u001b[0m",
      "\u001b[1;32m~\\Desktop\\GithubProjects\\Project-J\\JDatasetCreation.py\u001b[0m in \u001b[0;36mstart\u001b[1;34m(arg, ite)\u001b[0m\n\u001b[0;32m    172\u001b[0m     \u001b[0miteration\u001b[0m \u001b[1;33m=\u001b[0m \u001b[0mint\u001b[0m\u001b[1;33m(\u001b[0m\u001b[0mite\u001b[0m\u001b[1;33m)\u001b[0m\u001b[1;33m\u001b[0m\u001b[1;33m\u001b[0m\u001b[0m\n\u001b[0;32m    173\u001b[0m     \u001b[1;31m# main(sys.argv[1:])\u001b[0m\u001b[1;33m\u001b[0m\u001b[1;33m\u001b[0m\u001b[1;33m\u001b[0m\u001b[0m\n\u001b[1;32m--> 174\u001b[1;33m     \u001b[0mmake_file\u001b[0m\u001b[1;33m(\u001b[0m\u001b[0mall_highlight_video_ids\u001b[0m\u001b[1;33m[\u001b[0m\u001b[0miteration\u001b[0m\u001b[1;33m]\u001b[0m\u001b[1;33m,\u001b[0m\u001b[1;34m\"highlight\"\u001b[0m\u001b[1;33m)\u001b[0m\u001b[1;33m\u001b[0m\u001b[1;33m\u001b[0m\u001b[0m\n\u001b[0m\u001b[0;32m    175\u001b[0m     \u001b[0mgroup_file\u001b[0m\u001b[1;33m(\u001b[0m\u001b[0mtrain_or_test\u001b[0m\u001b[1;33m,\u001b[0m\u001b[1;34m\"pos\"\u001b[0m\u001b[1;33m,\u001b[0m \u001b[1;34m\"highlight\"\u001b[0m\u001b[1;33m)\u001b[0m\u001b[1;33m\u001b[0m\u001b[1;33m\u001b[0m\u001b[0m\n\u001b[0;32m    176\u001b[0m \u001b[1;33m\u001b[0m\u001b[0m\n",
      "\u001b[1;32m~\\Desktop\\GithubProjects\\Project-J\\JDatasetCreation.py\u001b[0m in \u001b[0;36mmake_file\u001b[1;34m(video_id, file_name)\u001b[0m\n\u001b[0;32m     75\u001b[0m \u001b[1;33m\u001b[0m\u001b[0m\n\u001b[0;32m     76\u001b[0m \u001b[1;32mdef\u001b[0m \u001b[0mmake_file\u001b[0m\u001b[1;33m(\u001b[0m\u001b[0mvideo_id\u001b[0m\u001b[1;33m,\u001b[0m\u001b[0mfile_name\u001b[0m\u001b[1;33m)\u001b[0m\u001b[1;33m:\u001b[0m\u001b[1;33m\u001b[0m\u001b[1;33m\u001b[0m\u001b[0m\n\u001b[1;32m---> 77\u001b[1;33m     \u001b[0mtranscript_list\u001b[0m \u001b[1;33m=\u001b[0m \u001b[0mYouTubeTranscriptApi\u001b[0m\u001b[1;33m.\u001b[0m\u001b[0mlist_transcripts\u001b[0m\u001b[1;33m(\u001b[0m\u001b[0mvideo_id\u001b[0m\u001b[1;33m)\u001b[0m\u001b[1;33m\u001b[0m\u001b[1;33m\u001b[0m\u001b[0m\n\u001b[0m\u001b[0;32m     78\u001b[0m     \u001b[0mtranscript\u001b[0m \u001b[1;33m=\u001b[0m \u001b[0mtranscript_list\u001b[0m\u001b[1;33m.\u001b[0m\u001b[0mfind_generated_transcript\u001b[0m\u001b[1;33m(\u001b[0m\u001b[1;33m[\u001b[0m\u001b[1;34m'en'\u001b[0m\u001b[1;33m]\u001b[0m\u001b[1;33m)\u001b[0m\u001b[1;33m\u001b[0m\u001b[1;33m\u001b[0m\u001b[0m\n\u001b[0;32m     79\u001b[0m     \u001b[0mtran\u001b[0m \u001b[1;33m=\u001b[0m \u001b[0mtranscript\u001b[0m\u001b[1;33m.\u001b[0m\u001b[0mfetch\u001b[0m\u001b[1;33m(\u001b[0m\u001b[1;33m)\u001b[0m\u001b[1;33m\u001b[0m\u001b[1;33m\u001b[0m\u001b[0m\n",
      "\u001b[1;32mc:\\users\\william\\appdata\\local\\programs\\python\\python38\\lib\\site-packages\\youtube_transcript_api\\_api.py\u001b[0m in \u001b[0;36mlist_transcripts\u001b[1;34m(cls, video_id, proxies, cookies)\u001b[0m\n\u001b[0;32m     68\u001b[0m                 \u001b[0mhttp_client\u001b[0m\u001b[1;33m.\u001b[0m\u001b[0mcookies\u001b[0m \u001b[1;33m=\u001b[0m \u001b[0mcls\u001b[0m\u001b[1;33m.\u001b[0m\u001b[0m_load_cookies\u001b[0m\u001b[1;33m(\u001b[0m\u001b[0mcookies\u001b[0m\u001b[1;33m,\u001b[0m \u001b[0mvideo_id\u001b[0m\u001b[1;33m)\u001b[0m\u001b[1;33m\u001b[0m\u001b[1;33m\u001b[0m\u001b[0m\n\u001b[0;32m     69\u001b[0m             \u001b[0mhttp_client\u001b[0m\u001b[1;33m.\u001b[0m\u001b[0mproxies\u001b[0m \u001b[1;33m=\u001b[0m \u001b[0mproxies\u001b[0m \u001b[1;32mif\u001b[0m \u001b[0mproxies\u001b[0m \u001b[1;32melse\u001b[0m \u001b[1;33m{\u001b[0m\u001b[1;33m}\u001b[0m\u001b[1;33m\u001b[0m\u001b[1;33m\u001b[0m\u001b[0m\n\u001b[1;32m---> 70\u001b[1;33m             \u001b[1;32mreturn\u001b[0m \u001b[0mTranscriptListFetcher\u001b[0m\u001b[1;33m(\u001b[0m\u001b[0mhttp_client\u001b[0m\u001b[1;33m)\u001b[0m\u001b[1;33m.\u001b[0m\u001b[0mfetch\u001b[0m\u001b[1;33m(\u001b[0m\u001b[0mvideo_id\u001b[0m\u001b[1;33m)\u001b[0m\u001b[1;33m\u001b[0m\u001b[1;33m\u001b[0m\u001b[0m\n\u001b[0m\u001b[0;32m     71\u001b[0m \u001b[1;33m\u001b[0m\u001b[0m\n\u001b[0;32m     72\u001b[0m     \u001b[1;33m@\u001b[0m\u001b[0mclassmethod\u001b[0m\u001b[1;33m\u001b[0m\u001b[1;33m\u001b[0m\u001b[0m\n",
      "\u001b[1;32mc:\\users\\william\\appdata\\local\\programs\\python\\python38\\lib\\site-packages\\youtube_transcript_api\\_transcripts.py\u001b[0m in \u001b[0;36mfetch\u001b[1;34m(self, video_id)\u001b[0m\n\u001b[0;32m     34\u001b[0m             \u001b[0mself\u001b[0m\u001b[1;33m.\u001b[0m\u001b[0m_http_client\u001b[0m\u001b[1;33m,\u001b[0m\u001b[1;33m\u001b[0m\u001b[1;33m\u001b[0m\u001b[0m\n\u001b[0;32m     35\u001b[0m             \u001b[0mvideo_id\u001b[0m\u001b[1;33m,\u001b[0m\u001b[1;33m\u001b[0m\u001b[1;33m\u001b[0m\u001b[0m\n\u001b[1;32m---> 36\u001b[1;33m             \u001b[0mself\u001b[0m\u001b[1;33m.\u001b[0m\u001b[0m_extract_captions_json\u001b[0m\u001b[1;33m(\u001b[0m\u001b[0mself\u001b[0m\u001b[1;33m.\u001b[0m\u001b[0m_fetch_video_html\u001b[0m\u001b[1;33m(\u001b[0m\u001b[0mvideo_id\u001b[0m\u001b[1;33m)\u001b[0m\u001b[1;33m,\u001b[0m \u001b[0mvideo_id\u001b[0m\u001b[1;33m)\u001b[0m\u001b[1;33m\u001b[0m\u001b[1;33m\u001b[0m\u001b[0m\n\u001b[0m\u001b[0;32m     37\u001b[0m         )\n\u001b[0;32m     38\u001b[0m \u001b[1;33m\u001b[0m\u001b[0m\n",
      "\u001b[1;32mc:\\users\\william\\appdata\\local\\programs\\python\\python38\\lib\\site-packages\\youtube_transcript_api\\_transcripts.py\u001b[0m in \u001b[0;36m_extract_captions_json\u001b[1;34m(self, html, video_id)\u001b[0m\n\u001b[0;32m     46\u001b[0m                 \u001b[1;32mraise\u001b[0m \u001b[0mVideoUnavailable\u001b[0m\u001b[1;33m(\u001b[0m\u001b[0mvideo_id\u001b[0m\u001b[1;33m)\u001b[0m\u001b[1;33m\u001b[0m\u001b[1;33m\u001b[0m\u001b[0m\n\u001b[0;32m     47\u001b[0m \u001b[1;33m\u001b[0m\u001b[0m\n\u001b[1;32m---> 48\u001b[1;33m             \u001b[1;32mraise\u001b[0m \u001b[0mTranscriptsDisabled\u001b[0m\u001b[1;33m(\u001b[0m\u001b[0mvideo_id\u001b[0m\u001b[1;33m)\u001b[0m\u001b[1;33m\u001b[0m\u001b[1;33m\u001b[0m\u001b[0m\n\u001b[0m\u001b[0;32m     49\u001b[0m \u001b[1;33m\u001b[0m\u001b[0m\n\u001b[0;32m     50\u001b[0m         captions_json = json.loads(\n",
      "\u001b[1;31mTranscriptsDisabled\u001b[0m: \nCould not retrieve a transcript for the video https://www.youtube.com/watch?v=H8IU-YmwVoU! This is most likely caused by:\n\nSubtitles are disabled for this video\n\nIf you are sure that the described cause is not responsible for this error and that a transcript should be retrievable, please create an issue at https://github.com/jdepoix/youtube-transcript-api/issues. Please add which version of youtube_transcript_api you are using and provide the information needed to replicate the error. Also make sure that there are no open issues which already describe your problem!"
     ]
    }
   ],
   "source": [
    "if __name__ == \"__main__\":\n",
    "    main(sys.argv[1:])\n",
    "    #     loop_through_creation(percent)\n",
    "    loop_through_creation_start(percent)"
   ]
  }
 ],
 "metadata": {
  "kernelspec": {
   "display_name": "Python 3",
   "language": "python",
   "name": "python3"
  },
  "language_info": {
   "codemirror_mode": {
    "name": "ipython",
    "version": 3
   },
   "file_extension": ".py",
   "mimetype": "text/x-python",
   "name": "python",
   "nbconvert_exporter": "python",
   "pygments_lexer": "ipython3",
   "version": "3.8.3"
  }
 },
 "nbformat": 4,
 "nbformat_minor": 4
}
