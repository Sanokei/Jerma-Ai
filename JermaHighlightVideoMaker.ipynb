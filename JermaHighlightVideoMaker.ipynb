{
 "cells": [
  {
   "cell_type": "code",
   "execution_count": null,
   "metadata": {},
   "outputs": [],
   "source": [
    "!pip install tensorflow\n",
    "!pip install tensorflow-hub\n",
    "!pip install tensorflow-text"
   ]
  },
  {
   "cell_type": "code",
   "execution_count": null,
   "metadata": {},
   "outputs": [],
   "source": [
    "!pip install youtube-dl\n",
    "!pip install datetime"
   ]
  },
  {
   "cell_type": "code",
   "execution_count": null,
   "metadata": {},
   "outputs": [],
   "source": [
    "import tensorflow as tf\n",
    "import tensorflow_hub as hub\n",
    "import tensorflow_text as text\n",
    "import os\n",
    "from datetime import timedelta, datetime, date, time\n",
    "\n",
    "import youtube_dl\n",
    "import requests\n",
    "import re\n",
    "import uuid\n",
    "from youtube_transcript_api import YouTubeTranscriptApi\n",
    "import json"
   ]
  },
  {
   "cell_type": "code",
   "execution_count": null,
   "metadata": {},
   "outputs": [],
   "source": [
    "model_path = r''+os.getcwd()+'\\\\jerma_model\\\\'\n",
    "model = tf.keras.models.load_model(model_path)"
   ]
  },
  {
   "cell_type": "code",
   "execution_count": null,
   "metadata": {},
   "outputs": [],
   "source": [
    "# Testing\n",
    "model.summary()"
   ]
  },
  {
   "cell_type": "code",
   "execution_count": null,
   "metadata": {},
   "outputs": [],
   "source": [
    "cand = {\"[Laughter]\":\"\",\"[Music]\":\"\",\"[Applause]\":\"\"}\n",
    "mid_bit = \"=\"\n",
    "drift = 0.0"
   ]
  },
  {
   "cell_type": "code",
   "execution_count": null,
   "metadata": {},
   "outputs": [],
   "source": [
    "def createTimestampFile_broken(youtubeID):\n",
    "    '''\n",
    "    BROKEN\n",
    "    \n",
    "    Youtubes, internal closed caption api leaks css data into generated cc data.\n",
    "    e.g\n",
    "    https://www.youtube.com/api/timedtext?v=DDg9TGHoPUU&asr_langs=de%2Cen%2Ces%2Cfr%2Cit%2Cja%2Cko%2Cnl%2Cpt%2Cru&caps=asr&exp=xftt%2Cxctw&xoaf=4&hl=en&ip=0.0.0.0&ipbits=0&expire=1629181838&sparams=ip%2Cipbits%2Cexpire%2Cv%2Casr_langs%2Ccaps%2Cexp%2Cxoaf&signature=BED5369F3C1B5C22831C25756CFEEE0D4DE2D421.0626DC01399FEE8B11F63E1452D40BCC14B3B2B5&key=yt8&kind=asr&lang=en&tlang=en&fmt=vtt\n",
    "    '''\n",
    "    global mid_bit\n",
    "    \n",
    "    name = \"timestamp\" + mid_bit\n",
    "    index = 1\n",
    "    url = \"https://www.youtube.com/watch?v={}\".format(youtubeID)\n",
    "    change = mid_bit+ str(uuid.uuid4().hex)\n",
    "    ydl = youtube_dl.YoutubeDL({'writesubtitles': True, 'allsubtitles': True, 'writeautomaticsub': True})\n",
    "    res = ydl.extract_info(url, download=False)\n",
    "    if not os.path.exists(os.getcwd() + \"\\\\temp\\\\\" + name + res.get(\"id\", None) + \".txt\"):\n",
    "        change = \"\"\n",
    "    if res['requested_subtitles'] and res['requested_subtitles']['en']:\n",
    "        print('Grabbing vtt file from ' + res['requested_subtitles']['en']['url'])\n",
    "        response = requests.get(res['requested_subtitles']['en']['url'], stream=True)\n",
    "        '''\n",
    "        Regex:\n",
    "        \\d = digit\n",
    "        {} = {# of digits}\n",
    "        \\W = any word character\n",
    "        \\s = white spaces\n",
    "        '''\n",
    "        timeStampRegex = re.compile(r'\\d{2}\\W\\d{2}\\W\\d{2}\\W\\d{3}\\s\\W{3}\\s\\d{2}\\W\\d{2}\\W\\d{2}\\W\\d{3}')\n",
    "        print(response.text)\n",
    "        new = timeStampRegex.findall(response.text)\n",
    "#         f1 = open(name + res.get(\"id\", None) + change + \".txt\", \"a+\")\n",
    "#         f1.write(\"{\")\n",
    "#         f1.close()\n",
    "        if new is None:\n",
    "            print(\"Found instance of none\")\n",
    "        else:\n",
    "            for i in new:\n",
    "                i = re.sub(\" --> \",\"\\\",\\\"end\\\":\\\"\",i)\n",
    "                # line = '\\\"'+str(index)+\"\\\":\"+\"{\\\"start\\\":\" + str(i)+\"},\\n\"\n",
    "                line = \"{\\\"start\\\":\\\"\" + str(i)+\"\\\"}\\n\"\n",
    "                # print(line)\n",
    "                f1 = open(os.getcwd() + \"\\\\temp\\\\\" + name + res.get(\"id\", None) + change + \".txt\", \"a+\")\n",
    "                f1.write(line)\n",
    "                f1.close()\n",
    "                index += 1\n",
    "#         f1 = open(name + res.get(\"id\", None) + change + \".txt\", \"a+\")\n",
    "#         f1.write(\"}\")\n",
    "#         f1.close()\n",
    "        if len(res['subtitles']) > 0:\n",
    "            print('manual captions')\n",
    "        else:\n",
    "            print('automatic_captions')\n",
    "            \n",
    "        return name + res.get(\"id\", None) + change + \".txt\"\n",
    "    else:\n",
    "        print('Youtube Video does not have any english captions')\n",
    "        return None"
   ]
  },
  {
   "cell_type": "code",
   "execution_count": null,
   "metadata": {},
   "outputs": [],
   "source": [
    "def createTimestampFile(video_id):\n",
    "    global mid_bit\n",
    "    name = \"timestamp\" + mid_bit\n",
    "    change = mid_bit+ str(uuid.uuid4().hex)\n",
    "    if not os.path.exists(os.getcwd() + \"\\\\temp\\\\\" + name + video_id + \".txt\"):\n",
    "        change = \"\"\n",
    "    file_name = name + video_id + change\n",
    "    transcript_list = YouTubeTranscriptApi.list_transcripts(video_id)\n",
    "    try:\n",
    "        transcript = transcript_list.find_manually_created_transcript(['en'])\n",
    "    except Exception:\n",
    "        transcript = transcript_list.find_generated_transcript(['en'])\n",
    "    tran = transcript.fetch()\n",
    "    \n",
    "    with open(os.getcwd() + \"\\\\temp\\\\\" +'{}.txt'.format(file_name),'w+') as file:\n",
    "        for line in tran:\n",
    "            this_line_dic = {\"start\":line.get(\"start\"),\"duration\":line.get(\"duration\")}\n",
    "            file.write(str(this_line_dic)+\"\\n\")  \n",
    "    return file_name + \".txt\""
   ]
  },
  {
   "cell_type": "code",
   "execution_count": null,
   "metadata": {},
   "outputs": [],
   "source": [
    "def createTranscriptFile(video_id):\n",
    "    global mid_bit\n",
    "    global cand\n",
    "    \n",
    "    name = \"trans\" + mid_bit\n",
    "    change = mid_bit+ str(uuid.uuid4().hex)\n",
    "    if not os.path.exists(os.getcwd() + \"\\\\temp\\\\\" + name + video_id + \".txt\"):\n",
    "        change = \"\"\n",
    "    file_name = name + video_id + change\n",
    "\n",
    "    transcript_list = YouTubeTranscriptApi.list_transcripts(video_id)\n",
    "    try:\n",
    "        transcript = transcript_list.find_manually_created_transcript(['en'])\n",
    "    except Exception:\n",
    "        transcript = transcript_list.find_generated_transcript(['en'])\n",
    "    tran = transcript.fetch()\n",
    "    \n",
    "    with open(os.getcwd() + \"\\\\temp\\\\\" +'{}.txt'.format(file_name),'w+') as file:\n",
    "        for line in tran:\n",
    "            newLine = line.get(\"text\")\n",
    "            i = \"\" if not [k for k,v in cand.items() if line.get(\"text\") == k] else [k for k,v in cand.items() if line.get(\"text\") == k][0]\n",
    "            newLine = line.get(\"text\").replace(i,\"\")\n",
    "            newLine = newLine.replace(\"\\n\",\"\")\n",
    "            # print(newLine)\n",
    "            if newLine.strip():\n",
    "                file.write(newLine+\"\\n\")\n",
    "    return file_name + \".txt\""
   ]
  },
  {
   "cell_type": "code",
   "execution_count": null,
   "metadata": {},
   "outputs": [],
   "source": [
    "def createCommandFile(timestamp_file_name,trans_file_name):\n",
    "    global mid_bit\n",
    "    global drift\n",
    "    \n",
    "    video_id = timestamp_file_name.split(mid_bit)[1]\n",
    "    name = \"command\"+ mid_bit\n",
    "    change = mid_bit+ str(uuid.uuid4().hex)\n",
    "    if not os.path.exists(os.getcwd() + \"\\\\temp\\\\\" + name + video_id + \".txt\"):\n",
    "        change = \"\"\n",
    "    file_name = name + video_id + change\n",
    "    \n",
    "    with open(os.getcwd() + \"\\\\temp\\\\\" +timestamp_file_name,\"r\") as timestamp_file:\n",
    "        timestamp_allLines = timestamp_file.readlines()\n",
    "    \n",
    "    with open(os.getcwd() + \"\\\\temp\\\\\" +trans_file_name,\"r\") as trans_file:\n",
    "        trans_allLines = trans_file.readlines()\n",
    "    \n",
    "    timestamp_max_line = len(timestamp_allLines)\n",
    "    trans_max_line = len(trans_allLines)\n",
    "    #print(timestamp_max_line)\n",
    "    #print(trans_max_line )\n",
    "    for line in range(timestamp_max_line):\n",
    "        time_dic = json.loads(timestamp_allLines[line].replace(\"'\",'\"'))         \n",
    "        if(not trans_allLines[line].strip()):\n",
    "            continue\n",
    "            \n",
    "        text = trans_allLines[line]\n",
    "        predict = model.predict([text])\n",
    "        print(predict)\n",
    "        print(timestamp_allLines[line])\n",
    "        if predict > 0.2 + drift:\n",
    "            with open(os.getcwd() + \"\\\\temp\\\\\" +'{}.txt'.format(file_name),'a+') as command_file:\n",
    "                command_file.write(get_command(youtubeID,time_dic[\"start\"],time_dic[\"duration\"]))   \n",
    "    \n",
    "    return file_name + \".txt\""
   ]
  },
  {
   "cell_type": "code",
   "execution_count": null,
   "metadata": {},
   "outputs": [],
   "source": [
    "def get_command(video_id,start_raw,duration_raw):\n",
    "    # format of start and end\n",
    "    ## e.g \n",
    "    # format needed\n",
    "    ## 00:13:00.00\n",
    "    # format style: url duration start\n",
    "    # duration = datetime.combine(date.min, time.fromisoformat(end)) - datetime.combine(date.min, time.fromisoformat(start))\n",
    "    duration = str(timedelta(seconds=duration_raw)).split(\".\")[0]\n",
    "    start = str(timedelta(seconds=start_raw)).split(\".\")[0]\n",
    "    return \"ffmpeg -ss {} -i \".format(start)+os.getcwd().replace(\"\\\\\",\"/\") + \"/videos/\" + video_id + \"/\" + video_id + \".mp4\"+\" -t {} -c copy\\n\".format(duration)   "
   ]
  },
  {
   "cell_type": "code",
   "execution_count": null,
   "metadata": {},
   "outputs": [],
   "source": [
    "if __name__ == '__main__':\n",
    "    youtubeID = \"DDg9TGHoPUU\"\n",
    "    timestamp_file_name = createTimestampFile(youtubeID)\n",
    "    trans_file_name = createTranscriptFile(youtubeID)\n",
    "    command_file_name = createCommandFile(timestamp_file_name,trans_file_name)"
   ]
  }
 ],
 "metadata": {
  "kernelspec": {
   "display_name": "Python 3",
   "language": "python",
   "name": "python3"
  },
  "language_info": {
   "codemirror_mode": {
    "name": "ipython",
    "version": 3
   },
   "file_extension": ".py",
   "mimetype": "text/x-python",
   "name": "python",
   "nbconvert_exporter": "python",
   "pygments_lexer": "ipython3",
   "version": "3.8.3"
  }
 },
 "nbformat": 4,
 "nbformat_minor": 4
}
